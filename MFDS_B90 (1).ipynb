{
  "nbformat": 4,
  "nbformat_minor": 0,
  "metadata": {
    "colab": {
      "name": "MFDS_B90.ipynb",
      "provenance": [],
      "collapsed_sections": []
    },
    "kernelspec": {
      "name": "python3",
      "display_name": "Python 3"
    },
    "language_info": {
      "name": "python"
    }
  },
  "cells": [
    {
      "cell_type": "markdown",
      "source": [
        "#B90 GROUP PROJECT\n",
        "\n",
        "Short description of the algorithm:\n",
        "\n",
        "Words in the document is converted to TF-IDF vectors (term frequency-inverse document frequency). We use the dot product between these vectors with those of the original document (that we are comparing with). This is called 'cosine similarity'. This measure gives the similarity between the test document and the original document."
      ],
      "metadata": {
        "id": "-dS-_8lHitgv"
      }
    },
    {
      "cell_type": "code",
      "execution_count": null,
      "metadata": {
        "colab": {
          "base_uri": "https://localhost:8080/"
        },
        "id": "WBBBv2iyhnqY",
        "outputId": "64903d74-1415-4715-f53e-ce16d4e4e0a8"
      },
      "outputs": [
        {
          "output_type": "stream",
          "name": "stdout",
          "text": [
            "cosine scores ==>  [[1.         0.82633331]]\n"
          ]
        }
      ],
      "source": [
        "from sklearn.feature_extraction.text import CountVectorizer\n",
        "from sklearn.metrics.pairwise import cosine_similarity\n",
        "from sklearn.feature_extraction.text import TfidfVectorizer\n",
        "\n",
        "# f = open(\"/content/te.txt\")\n",
        "# doc1 = str(f.read(), \"ignore\")\n",
        "doc1='''Lincoln, a moderate Republican, had to navigate a\n",
        "contentious array of factions with friends and opponents\n",
        "from both the Democratic and Republican parties. His allies,\n",
        "the War Democrats and the Radical Republicans, demanded\n",
        "harsh treatment of the Southern Confederates. Anti-war\n",
        "Democrats (called \"Copperheads\") despised Lincoln, and\n",
        "irreconcilable pro-Confederate elements plotted his\n",
        "assassination. He managed the factions by exploiting their\n",
        "mutual enmity, carefully distributing political patronage,\n",
        "and by appealing to the American people. '''\n",
        "# f = open(\"/root/Myfolder/scoringDocuments/doc2\")\n",
        "# doc2 = str.decode(f.read(), \"UTF-8\", \"ignore\")\n",
        "# f = open(\"/root/Myfolder/scoringDocuments/doc3\")\n",
        "# doc3 = str.decode(f.read(), \"UTF-8\", \"ignore\")\n",
        "y='''Lincoln, a moderate Republican, had to navigate a\n",
        "contentious array of factions with friends and opponents\n",
        "from both the Democratic and Republican parties. His allies,\n",
        "the War Democrats and the Radical Republicans, demanded\n",
        "harsh treatment of the Southern Confederates. Anti-war\n",
        "Democrats (called \"Copperheads\") despised Lincoln, and\n",
        "irreconcilable pro-Confederate elements plotted his\n",
        "assassination. He managed the factions by exploiting their\n",
        "mutual enmity, carefully distributing political patronage,\n",
        "and by appealing to the American people. His Gettysburg\n",
        "Address appealed to nationalistic, republican, egalitarian,\n",
        "libertarian, and democratic sentiments. Lincoln closely\n",
        "supervised the strategy and tactics in the war effort,\n",
        "including the selection of generals, and implemented a naval\n",
        "blockade of the South's trade. He suspended habeas corpus\n",
        "in Maryland, and he averted British intervention by defusing\n",
        "the Trent Affair. In 1863 he issued the Emancipation\n",
        "Proclamation, which declared the slaves in the states \"in\n",
        "rebellion\" to be free'''\n",
        "train_set = [y,doc1] #if we have to compare more than one document with the ground truth(y), we can add them in the training set.\n",
        "tfidf_vectorizer = TfidfVectorizer()\n",
        "tfidf_matrix_train = tfidf_vectorizer.fit_transform(train_set)  #finds the tfidf score with normalization\n",
        "print(\"cosine scores ==> \",cosine_similarity(tfidf_matrix_train[0:1], tfidf_matrix_train))\n",
        "#first element in the cosine score is that of the ground truth which is 1 itself.\n",
        "#Next element will be the similarity between document 1 and the ground truth and so on."
      ]
    },
    {
      "cell_type": "markdown",
      "source": [
        "Test case 1: AVENGER'S ENDGAME VS TOM & JERRY "
      ],
      "metadata": {
        "id": "R9LCw00ZjnBa"
      }
    },
    {
      "cell_type": "code",
      "source": [
        "doc1='''The film was announced in October 2014 as Avengers:\n",
        "Infinity War – Part 2, but Marvel later removed this title. The\n",
        "Russo brothers joined as directors in April 2015, with Markus\n",
        "and McFeely signing on to write the script a month later. The\n",
        "film serves as a conclusion to the story of the MCU up to that\n",
        "point, ending the story arcs for several main characters. The\n",
        "plot revisits several moments from earlier films, bringing back\n",
        "actors and settings from throughout the franchise. Filming\n",
        "began in August 2017 at Pinewood Atlanta Studios in Fayette\n",
        "County, Georgia, shooting back-to-back with Infinity War,\n",
        "and ended in January 2018. Additional filming took place in\n",
        "the Metro and Downtown Atlanta areas, New York state,\n",
        "Scotland, and England. The official title was revealed in\n",
        "December 2018. With an estimated budget of $356–\n",
        "400 million, the film is one of the most expensive films ever\n",
        "made.\n",
        " '''\n",
        "\n",
        "y='''In its original run, Hanna and Barbera produced 114 Tom and\n",
        "Jerry shorts for MGM from 1940 to 1958.[1] During this time,\n",
        "they won seven Academy Awards for Best Animated Short\n",
        "Film, tying for first place with Walt Disney's Silly Symphonies\n",
        "with the most awards in the category. After the MGM cartoon\n",
        "studio closed in 1957, MGM revived the series with Gene\n",
        "Deitch directing an additional 13 Tom and Jerry shorts for\n",
        "Rembrandt Films from 1961 to 1962. Tom and Jerry then\n",
        "became the highest-grossing animated short film series of that\n",
        "time, overtaking Looney Tunes. Chuck Jones then produced\n",
        "another 34 shorts with Sib Tower 12 Productions between\n",
        "1963 and 1967. Three more shorts were produced, The\n",
        "Mansion Cat in 2001, The Karate Guard in 2005, and A\n",
        "Fundraising Adventure in 2014, making a total of 164 shorts.\n",
        "'''\n",
        "train_set = [y,doc1] #if we have to compare more than one document with the ground truth(y), we can add them in the training set.\n",
        "tfidf_vectorizer = TfidfVectorizer()\n",
        "tfidf_matrix_train = tfidf_vectorizer.fit_transform(train_set)  #finds the tfidf score with normalization\n",
        "print(\"cosine scores ==> \",cosine_similarity(tfidf_matrix_train[0:1], tfidf_matrix_train))\n",
        "#first element in the cosine score is that of the ground truth which is 1 itself.\n",
        "#Next element will be the similarity between document 1 and the ground truth and so on."
      ],
      "metadata": {
        "id": "Zff7pdm6xYQ3",
        "colab": {
          "base_uri": "https://localhost:8080/"
        },
        "outputId": "d56cb150-cce5-4992-8ab8-4a497ae4ea6d"
      },
      "execution_count": null,
      "outputs": [
        {
          "output_type": "stream",
          "name": "stdout",
          "text": [
            "cosine scores ==>  [[1.         0.41223242]]\n"
          ]
        }
      ]
    },
    {
      "cell_type": "markdown",
      "source": [
        "Test case 2: ISRO"
      ],
      "metadata": {
        "id": "HqkR_ta8dkWo"
      }
    },
    {
      "cell_type": "code",
      "source": [
        "doc1='''The Indian National Committee for Space Research\n",
        "(INCOSPAR) was established by Jawaharlal Nehru under\n",
        "the Department of Atomic Energy (DAE) in 1962, on the\n",
        "urging of scientist Vikram Sarabhai recognising the need in\n",
        "space research. INCOSPAR grew and became ISRO in 1969,\n",
        "within DAE.[9] In 1972, the Government of India had set up\n",
        "a Space Commission and the Department of Space (DOS),\n",
        "bringing ISRO under the DOS. The establishment of ISRO\n",
        "thus institutionalised space research activities in\n",
        "India.[10][11] It since then has been managed by the DOS,\n",
        "which governs various other institutions in India in domain\n",
        "of astronomy and space technolog\n",
        " '''\n",
        "\n",
        "y='''Ellis considered his controversial novel potentially\n",
        "unfilmable, but producer Edward R. Pressman was\n",
        "determined to adapt it and bought the film rights in 1992.\n",
        "Stuart Gordon, David Cronenberg, and Rob Weiss considered\n",
        "directing the film before Harron and Turner began writing\n",
        "the screenplay in 1996. They sought to make a 1980s period\n",
        "film that emphasized the novel's satire. The pre-production\n",
        "period was tumultuous; Harron chose Bale to play Bateman,\n",
        "but distributor Lions Gate Films was so adamant to cast\n",
        "Leonardo DiCaprio—then considered the world's biggest\n",
        "actor—that it fired and replaced her with Oliver Stone. After\n",
        "Stone and DiCaprio left due to creative differences, Harron\n",
        "was rehired and Lions Gate begrudgingly let her cast Bale.\n",
        "Principal photography began in February 1999 in Toronto\n",
        "and New York City with a $7 million budget.\n",
        "\n",
        "'''\n",
        "train_set = [y,doc1] #if we have to compare more than one document with the ground truth(y), we can add them in the training set.\n",
        "tfidf_vectorizer = TfidfVectorizer()\n",
        "tfidf_matrix_train = tfidf_vectorizer.fit_transform(train_set)  #finds the tfidf score with normalization\n",
        "print(\"cosine scores ==> \",cosine_similarity(tfidf_matrix_train[0:1], tfidf_matrix_train))\n",
        "#first element in the cosine score is that of the ground truth which is 1 itself.\n",
        "#Next element will be the similarity between document 1 and the ground truth and so on."
      ],
      "metadata": {
        "id": "B0PSY63hjmSy",
        "colab": {
          "base_uri": "https://localhost:8080/"
        },
        "outputId": "7717c5fb-1f4d-43ce-93d3-b66dcb20cd3b"
      },
      "execution_count": null,
      "outputs": [
        {
          "output_type": "stream",
          "name": "stdout",
          "text": [
            "cosine scores ==>  [[1.         0.23327284]]\n"
          ]
        }
      ]
    },
    {
      "cell_type": "markdown",
      "source": [
        "Test case 3: NETFLIX, AMAZON & HULU"
      ],
      "metadata": {
        "id": "-6Ryj19Ud3MP"
      }
    },
    {
      "cell_type": "code",
      "source": [
        "doc1='''Netflix was founded on the aforementioned date by Reed Hastings and\n",
        " Marc Randolph in Scotts Valley, California. Netflix initially both sold and\n",
        "  rented DVDs by mail, but the sales were eliminated within a year to focus on\n",
        "   the DVD rental business.[20][21] In 2007, Netflix introduced streaming media\n",
        "    and video on demand. The company expanded to Canada in 2010, followed by Latin America and the Caribbean. Netflix entered the content-production industry in 2013, \n",
        "debuting its first series House of Cards. In January 2016, \n",
        "it expanded to an additional 130 countries and then operated in 190 countries.\n",
        " '''\n",
        "\n",
        "y='''Amazon Prime is a paid subscription service from Amazon which\n",
        "is available in various countries and gives users access to\n",
        "additional services otherwise unavailable or available at a premium\n",
        "to other Amazon customers. Services include same, one or twoday delivery of goods and streaming music, video, e-books,\n",
        "gaming and grocery shopping services. In April 2021, Amazon\n",
        "reported that Prime had more than 200 million subscribers\n",
        "worldwide. In January 2016, Amazon Prime reached 54 million members according to a report from Consumer Intelligence Research Partners.[28] Several reports in January 2016 said that nearly half of all U.S. households were members of Amazon Prime at that time.[29] In April 2016, Amazon announced same-day delivery would be expanded to include the areas of Charlotte, Cincinnati, Fresno, Louisville, Milwaukee, Nashville, Central New Jersey, Raleigh, Richmond, Sacramento, Stockton, and Tucson, bringing total coverage to 27 metro areas.[30][31] In September 2016, Amazon launched a restaurant delivery service for Prime members in London, England, with free delivery on all orders over £15.[32]\n",
        "\n",
        "In September 2016, Amazon subsidiary Twitch announced features available to users with an Amazon Prime subscription (Twitch Prime), including monthly offers of video games and add-on content, and the ability to purchase a free subscription to a user's channel once per-month.[33][34] Amazon then partnered with different game developers offering in-game loots as rewards to subscribers. Games included with the loot rewards were Apex Legends, Legends of Runeterra, FIFA Ultimate Team, Teamfight Tactics, Mobile Legends: Bang Bang, Doom Eternal, and more.[35] In December 2016, Amazon began offering Prime membership for an alternative monthly, instead of yearly fee, of $10.99 per month,[36] increased to $12.99 in February 2018.[37] Amazon also announced Wickedly Prime, an own-brand line of food and beverages available to Prime members.[38]\n",
        "\n",
        "Amazon announced Prime Wardrobe, a service that lets customers try on clothes before they pay, in June 2017.[39] Also in 2017, Amazon announced the Prime Exclusive Phone program, which offers some smartphones displaying Amazon ads on the lock screen from companies including LG, Motorola and Nokia at a discount.[40]\n",
        "\n",
        "In May 2018, Amazon increased the annual US Prime membership fee from $99 to $119.[41] In June 2019, Amazon expanded its one-day delivery with Amazon Prime, stating that Prime Free One Day was available to U.S. members on more than 10 million products with no minimum purchase.[42]\n",
        "\n",
        "On March 3, 2020, Amazon announced it installed \"mini-fulfillment centers\" in select U.S. cities, including Dallas, Orlando, Philadelphia, and Phoenix to reduce same-day delivery times.[43] Later the same month, during the COVID-19 pandemic, Prime express delivery dates for various in-stock items reached delays of up to a month in the US instead of the usual 1–2 days, as Amazon struggled to meet exceptional demand and announced it would prioritize the most essential items.[44] By the end of 2020, Amazon Prime Pantry had been discontinued in all locations.[45]\n",
        "\n",
        "In February 2022, Amazon announced its first increase in almost four years for the annual US Prime membership fee from $119 to $139. The increase was due to higher labor and shipping costs\n",
        "\n",
        "'''\n",
        "\n",
        "doc2  ='''Hulu is an American subscription streaming service majority-owned by The Walt Disney Company, with Comcast’s NBCUniversal holding a minority stake. Launched on October 29, 2007, it offers a library of films and television series from networks such as ABC, NBC, or FX Networks, as well as Hulu original programming.\n",
        "\n",
        "Hulu was initially established as a joint venture between News Corporation and NBC Universal, Providence Equity Partners, and later The Walt Disney Company, serving as an aggregation of recent episodes of television series from their respective television networks. In 2010, Hulu became the first streaming service to add \"Plus\" to its name when it launched a subscription service, initially branded as Hulu Plus, which featured full seasons of programs from the companies and other partners, and undelayed access to new episodes.[2] In 2017, the company launched Hulu with Live TV—an over-the-top IPTV service featuring linear television channels.\n",
        "\n",
        "As of April 2, 2022, Hulu has a total of 45.6 million subscribers'''\n",
        "train_set = [y,doc1,doc2] #if we have to compare more than one document with the ground truth(y), we can add them in the training set.\n",
        "tfidf_vectorizer = TfidfVectorizer()\n",
        "tfidf_matrix_train = tfidf_vectorizer.fit_transform(train_set)  #finds the tfidf score with normalization\n",
        "print(\"cosine scores ==> \",cosine_similarity(tfidf_matrix_train[0:1], tfidf_matrix_train))\n",
        "#first element in the cosine score is that of the ground truth which is 1 itself.\n",
        "#Next element will be the similarity between document 1 and the ground truth and so on."
      ],
      "metadata": {
        "colab": {
          "base_uri": "https://localhost:8080/"
        },
        "id": "0mUrVgTnd444",
        "outputId": "d9de4242-92fe-494b-d42e-a8a503492280"
      },
      "execution_count": null,
      "outputs": [
        {
          "output_type": "stream",
          "name": "stdout",
          "text": [
            "cosine scores ==>  [[1.         0.28658106 0.23126928]]\n"
          ]
        }
      ]
    },
    {
      "cell_type": "markdown",
      "source": [
        "Test case 4: CLIMATE CHANGE"
      ],
      "metadata": {
        "id": "Nhd8lBwte2GZ"
      }
    },
    {
      "cell_type": "code",
      "source": [
        "doc1='''The IPCC prepares comprehensive Assessment Reports about the state of scientific,\n",
        " technical and socio-economic knowledge on climate change, its impacts and future risks,\n",
        "  and options for reducing the rate at which climate change is taking place. It also produces\n",
        "   Special Reports on topics agreed to by its member governments, as well as Methodology Reports\n",
        "    that provide guidelines for the preparation of greenhouse gas inventories. The IPCC is working \n",
        "    on the Sixth Assessment Report which consists of three Working Group contributions\n",
        " and a Synthesis Report. The Working Group I contribution was finalized in August 2021 \n",
        " and the Working Group II contribution in February 2022.\n",
        " '''\n",
        "\n",
        "y='''Scientists are observing changes in the Earth’s climate in every region and across the whole climate system, \n",
        "according to the latest Intergovernmental Panel on Climate Change (IPCC) Report, released today. Many of the changes observed in the climate are unprecedented in thousands, if not hundreds of thousands of years, and some of the\n",
        " changes already set in motion—such as continued sea level rise—are irreversible over hundreds to thousands of years.\n",
        "However, strong and sustained reductions in emissions of carbon dioxide (CO2) and other greenhouse gases would limit \n",
        "climate change. While benefits for air quality would come quickly, it could take 20-30 years to see global temperatures \n",
        "stabilize, according to the IPCC Working Group I report, Climate Change 2021: the Physical Science Basis, approved on \n",
        "Friday by 195 member governments of the IPCC, through a virtual approval session that was held over two weeks starting on July 26.\n",
        "\n",
        "'''\n",
        "train_set = [y,doc1] #if we have to compare more than one document with the ground truth(y), we can add them in the training set.\n",
        "tfidf_vectorizer = TfidfVectorizer()\n",
        "tfidf_matrix_train = tfidf_vectorizer.fit_transform(train_set)  #finds the tfidf score with normalization\n",
        "print(\"cosine scores ==> \",cosine_similarity(tfidf_matrix_train[0:1], tfidf_matrix_train))\n",
        "#first element in the cosine score is that of the ground truth which is 1 itself.\n",
        "#Next element will be the similarity between document 1 and the ground truth and so on."
      ],
      "metadata": {
        "colab": {
          "base_uri": "https://localhost:8080/"
        },
        "id": "I1f8Fspce3eo",
        "outputId": "f9e68a7e-9afe-4f59-ebdb-8a5c425328e4"
      },
      "execution_count": null,
      "outputs": [
        {
          "output_type": "stream",
          "name": "stdout",
          "text": [
            "cosine scores ==>  [[1.         0.46609942]]\n"
          ]
        }
      ]
    },
    {
      "cell_type": "markdown",
      "source": [
        "Test case 5: DATA SCIENCE"
      ],
      "metadata": {
        "id": "lmMyDbvqhGf-"
      }
    },
    {
      "cell_type": "code",
      "source": [
        "doc1='''Data science is the field of study that combines domain expertise, programming\n",
        " skills, and knowledge of mathematics and statistics to extract meaningful insights from\n",
        "  data. Data science practitioners apply machine learning algorithms to numbers, text, images, \n",
        "  video, audio, and more to produce artificial intelligence (AI) systems to perform tasks that \n",
        "  ordinarily require human intelligence. In turn, these systems generate insights which analysts\n",
        "   and business users can translate into tangible business value.More and more companies are \n",
        "   coming to realize the importance of data science, AI, and machine learning. Regardless of\n",
        "    industry or size, organizations that wish to remain\n",
        " competitive in the age of big data need to efficiently develop and implement data science capabilities or risk being left behind.\n",
        " '''\n",
        "\n",
        "y='''Data science is a field of study that combines domain technology, planning skills, \n",
        "and mathematical knowledge to generate meaningful data. Data scientists use machine learning\n",
        " algorithms for numbers, text, images, video, audio, etc. to produce artificial intelligence \n",
        " systems (AI) to perform tasks that often require human ingenuity. Next, these systems generate\n",
        "  information that analysts and business users can translate into portable business value. More \n",
        "  and more companies will now see the value of data science, AI, and machine learning. Regardless of the category or size, \n",
        "organizations wishing to remain competitive in the big data age need to successfully develop and\n",
        " apply data science skills or risks left behind.\n",
        "\n",
        "'''\n",
        "train_set = [y,doc1] #if we have to compare more than one document with the ground truth(y), we can add them in the training set.\n",
        "tfidf_vectorizer = TfidfVectorizer()\n",
        "tfidf_matrix_train = tfidf_vectorizer.fit_transform(train_set)  #finds the tfidf score with normalization\n",
        "print(\"cosine scores ==> \",cosine_similarity(tfidf_matrix_train[0:1], tfidf_matrix_train))\n",
        "#first element in the cosine score is that of the ground truth which is 1 itself.\n",
        "#Next element will be the similarity between document 1 and the ground truth and so on.\n"
      ],
      "metadata": {
        "colab": {
          "base_uri": "https://localhost:8080/"
        },
        "id": "BPfZPVa9fAHG",
        "outputId": "c720e5f0-7e02-4a71-dc63-c74af144c8be"
      },
      "execution_count": null,
      "outputs": [
        {
          "output_type": "stream",
          "name": "stdout",
          "text": [
            "cosine scores ==>  [[1.         0.81904315]]\n"
          ]
        }
      ]
    },
    {
      "cell_type": "markdown",
      "source": [
        "Test case 6: ELON MUSK VS JEFF BEZOS"
      ],
      "metadata": {
        "id": "-LRxYOOUhJmm"
      }
    },
    {
      "cell_type": "code",
      "source": [
        "doc1='''Musk was born to White South African parents in Pretoria,\n",
        "where he grew up. He briefly attended the University of\n",
        "Pretoria before moving to Canada at age 17, acquiring\n",
        "citizenship through his Canadian-born mother. He\n",
        "matriculated at Queen's University and transferred to the\n",
        "University of Pennsylvania two years later, where he received\n",
        "a bachelor's degree in Economics and Physics. He moved to\n",
        "California in 1995 to attend Stanford University but decided\n",
        "instead to pursue a business career, co-founding the web\n",
        "software company Zip2 with his brother Kimbal. The startup\n",
        "was acquired by Compaq for $307 million in 1999. The same\n",
        "year, Musk co-founded online bank X.com, which merged with\n",
        "Confinity in 2000 to form PayPal. The company was bought by\n",
        "eBay in 2002 for $1.5 billion\n",
        " '''\n",
        "\n",
        "y='''Born in Albuquerque and raised in Houston and Miami, Bezos graduated from Princeton University in 1986.\n",
        " He holds a degree in electrical engineering and computer science. He worked on Wall Street in a variety of\n",
        "  related fields from 1986 to early 1994. Bezos founded Amazon in late 1994, on road trip from New York City \n",
        "  to Seattle. The company began as an online\n",
        " bookstore and has since expanded to a variety of other e-commerce products and services, including video and \n",
        " audio streaming, cloud computing, and artificial intelligence. It is currently the world's largest online\n",
        "  sales company, the largest Internet company by revenue, and the largest provider of virtual assistants and \n",
        "  cloud infrastructure services through its Amazon Web Services branch.\n",
        "Bezos founded the aerospace manufacturer and sub-orbital spaceflight services company Blue Origin in 2000. Blue Origin's New Shepard vehicle reached space in 2015, and afterwards successfully landed back on Earth. He also purchased the major American newspaper The Washington Post in 2013 for $250 million, and manages many other investments through his venture capital firm, Bezos Expeditions. In September 2021, Bezos co-founded biotechnology company Altos Labs with Mail.ru founder Yuri Milner\n",
        "\n",
        "'''\n",
        "train_set = [y,doc1] #if we have to compare more than one document with the ground truth(y), we can add them in the training set.\n",
        "tfidf_vectorizer = TfidfVectorizer()\n",
        "tfidf_matrix_train = tfidf_vectorizer.fit_transform(train_set)  #finds the tfidf score with normalization\n",
        "print(\"cosine scores ==> \",cosine_similarity(tfidf_matrix_train[0:1], tfidf_matrix_train))\n",
        "#first element in the cosine score is that of the ground truth which is 1 itself.\n",
        "#Next element will be the similarity between document 1 and the ground truth and so on.\n"
      ],
      "metadata": {
        "id": "tNzRhR_ShI1H",
        "colab": {
          "base_uri": "https://localhost:8080/"
        },
        "outputId": "874a8c9e-33b7-4ba1-eec9-5ad3f532b060"
      },
      "execution_count": null,
      "outputs": [
        {
          "output_type": "stream",
          "name": "stdout",
          "text": [
            "cosine scores ==>  [[1.         0.38251622]]\n"
          ]
        }
      ]
    },
    {
      "cell_type": "markdown",
      "source": [
        "Test case 7:"
      ],
      "metadata": {
        "id": "KO3Xw-DIOZz4"
      }
    },
    {
      "cell_type": "code",
      "source": [
        "doc1='''A preamble is a statement in a document that explains the philosophy and objectives. \n",
        "It was laid down by Jawaharlal Nehru’s Objectives Resolution, adopted by the Constituent\n",
        " Assembly on January 22, 1947.\n",
        "Components of Preamble\n",
        "The Preamble indicates that the source of authority of the Constitution lies with the \n",
        "people of India\n",
        "It declares India to be a socialist, secular, secular, democratic and a republic nation.\n",
        "It states its objectives to secure justice, liberty, equality to all citizens and promote \n",
        "fraternity to maintain unity and integrity of the nation.\n",
        "It mentions the date (November 26, 1949) on which the constitution was adopted.\n",
        "\n",
        "\n",
        " '''\n",
        "\n",
        "y=''' A preamble is an introductory statement in a document that explains the document’s\n",
        " philosophy and objectives.\n",
        "The ideals behind the Preamble to India’s Constitution were laid down by Jawaharlal \n",
        "Nehru’s Objectives Resolution, adopted by the Constituent Assembly on January 22, 1947.\n",
        "Components of Preamble\n",
        "It is indicated by the Preamble that the source of authority of the Constitution lies \n",
        "with the people of India.\n",
        "Preamble declares India to be a sovereign, socialist, secular and democratic republic.\n",
        "The objectives stated by the Preamble are to secure justice, liberty, equality to all\n",
        " citizens and promote fraternity to maintain unity and integrity of the nation.\n",
        "The date is mentioned in the preamble when it was adopted i.e. November 26, 1949\n",
        "\n",
        "\n",
        "'''\n",
        "train_set = [y,doc1] #if we have to compare more than one document with the ground truth(y), we can add them in the training set.\n",
        "tfidf_vectorizer = TfidfVectorizer()\n",
        "tfidf_matrix_train = tfidf_vectorizer.fit_transform(train_set)  #finds the tfidf score with normalization\n",
        "print(\"cosine scores ==> \",cosine_similarity(tfidf_matrix_train[0:1], tfidf_matrix_train))\n",
        "#first element in the cosine score is that of the ground truth which is 1 itself.\n",
        "#Next element will be the similarity between document 1 and the ground truth and so on."
      ],
      "metadata": {
        "id": "KsuvArwWu0Vi",
        "colab": {
          "base_uri": "https://localhost:8080/"
        },
        "outputId": "e658e7ed-4d28-45d2-ce29-11a55b9ab87b"
      },
      "execution_count": null,
      "outputs": [
        {
          "output_type": "stream",
          "name": "stdout",
          "text": [
            "cosine scores ==>  [[1.         0.90054018]]\n"
          ]
        }
      ]
    },
    {
      "cell_type": "markdown",
      "source": [
        "Test case 8: Hyperloop in India"
      ],
      "metadata": {
        "id": "IqOXKFmjOe2A"
      }
    },
    {
      "cell_type": "code",
      "source": [
        "doc1='''The proposed Pune-Mumbai Hyperloop project, an ultra-modern\n",
        "transport system that will reduce the travelling time between the two cities to 25\n",
        "minutes from 2.5-3 hours, may be scrapped by the state government.\n",
        "The state has expressed reservations about the project that was still in its\n",
        "experimental stage, and had not been “implemented anywhere in the world”\n",
        "Hyperloop is a novel mode of ultra-fast mass transportation solution that\n",
        "transports people and cargo through a pod in a vacuum environment. It works\n",
        "through the concept of shooting pods or compartments of passengers through an\n",
        "airtight tube that is in a partial vacuum. A maglev train system uses two sets of\n",
        "magnets — one for attracting and moving the train forward along the track, and\n",
        "another for repelling and pushing the train off the track.\n",
        "\n",
        " '''\n",
        "\n",
        "y='''The Virgin Hyperloop has completed the world’s first passenger ride on a\n",
        "super-high-speed levitating pod system in the United States. In India, the\n",
        "Maharashtra government has deemed Hyperloop a public infrastructure project\n",
        "and approved the Virgin Hyperloop-DP World Consortium as the original\n",
        "project proponent for the Mumbai-Pune Hyperloop project. Also, NITI Ayog\n",
        "cleared six new proposals for the public transportation system of India. These\n",
        "technologies include metrino, stadler buses, hyper loop, pod taxis, hybrid buses\n",
        "and freight railroad.\n",
        "Hyperloop is a new mode of ultra-fast mass transportation solution that\n",
        "transports people and cargo through a pod in a vacuum environment. Hyperloop\n",
        "works through the concept of shooting pods or compartments of passengers\n",
        "through an airtight tube that is in a partial vacuum. The propulsion is done\n",
        "through magnetic levitation, with the air capsules or pods gliding or levitating\n",
        "over the tracks.\n",
        "\n",
        "\n",
        "'''\n",
        "train_set = [y,doc1] #if we have to compare more than one document with the ground truth(y), we can add them in the training set.\n",
        "tfidf_vectorizer = TfidfVectorizer()\n",
        "tfidf_matrix_train = tfidf_vectorizer.fit_transform(train_set)  #finds the tfidf score with normalization\n",
        "print(\"cosine scores ==> \",cosine_similarity(tfidf_matrix_train[0:1], tfidf_matrix_train))\n",
        "#first element in the cosine score is that of the ground truth which is 1 itself.\n",
        "#Next element will be the similarity between document 1 and the ground truth and so on."
      ],
      "metadata": {
        "colab": {
          "base_uri": "https://localhost:8080/"
        },
        "id": "p90GuYffOq_a",
        "outputId": "9807c433-fdd4-425a-c2f5-790ff6883e4c"
      },
      "execution_count": null,
      "outputs": [
        {
          "output_type": "stream",
          "name": "stdout",
          "text": [
            "cosine scores ==>  [[1.         0.64673421]]\n"
          ]
        }
      ]
    },
    {
      "cell_type": "markdown",
      "source": [
        "Test case 9: Design Optimization"
      ],
      "metadata": {
        "id": "sDorVj2jO-NJ"
      }
    },
    {
      "cell_type": "code",
      "source": [
        "doc1=''' Design will determining parameters that lead to the best “performance”\n",
        "of a mechanical structure, device, or system. Given a set of objective and\n",
        "constraint functions, the goal of the optimization process is to produce\n",
        "designs that maximize or minimize the values of the objectives as far as\n",
        "possible, while still working within the limits of the constraints. Every\n",
        "optimization problem has three components: an objective function, decision\n",
        "variables, and constraints. Design variables are entities that can change the\n",
        "shape or properties of the model within a specified range during a\n",
        "sensitivity or optimization design study. The design variables you create\n",
        "affect only the shape of the model.\n",
        "\n",
        " '''\n",
        "\n",
        "y='''Design optimization is an engineering design methodology using a\n",
        "mathematical formulation of a design problem to support selection of the\n",
        "optimal design among many alternatives. Design optimization involves the\n",
        "following stages:  [1]   [2]\n",
        "1. Variables: Describe the design alternatives\n",
        "2. Objective: Elected functional combination of variables (to be maximized\n",
        "or minimized)\n",
        "3. Constraints: Combination of Variables expressed as equalities or\n",
        "inequalities that must be satisfied for any acceptable design alternative\n",
        "4. Feasibility: Values for set of variables that satisfies all constraints and\n",
        "minimizes/maximizes Objective\n",
        "\n",
        "'''\n",
        "train_set = [y,doc1] #if we have to compare more than one document with the ground truth(y), we can add them in the training set.\n",
        "tfidf_vectorizer = TfidfVectorizer()\n",
        "tfidf_matrix_train = tfidf_vectorizer.fit_transform(train_set)  #finds the tfidf score with normalization\n",
        "print(\"cosine scores ==> \",cosine_similarity(tfidf_matrix_train[0:1], tfidf_matrix_train))\n",
        "#first element in the cosine score is that of the ground truth which is 1 itself.\n",
        "#Next element will be the similarity between document 1 and the ground truth and so on."
      ],
      "metadata": {
        "colab": {
          "base_uri": "https://localhost:8080/"
        },
        "id": "gmLmWJNVO8uI",
        "outputId": "edc4580d-23b3-4631-8f02-6e5e14deda00"
      },
      "execution_count": null,
      "outputs": [
        {
          "output_type": "stream",
          "name": "stdout",
          "text": [
            "cosine scores ==>  [[1.         0.51456722]]\n"
          ]
        }
      ]
    },
    {
      "cell_type": "markdown",
      "source": [
        "Test case 10: Tiger reserve in India"
      ],
      "metadata": {
        "id": "s3OXD46dPMnS"
      }
    },
    {
      "cell_type": "code",
      "source": [
        "doc1=''' There are a total of 53 Tiger reserves in India since 2022. According to\n",
        "the latest Tiger 2018-19 census conducted in 20 provinces across India, 2967\n",
        "Tiger lives in India. Tiger population growth rate is 6% per year compared to\n",
        "the 2006 tiger census. In this article, we will cover all the tips you need to\n",
        "know about Tiger reserves in India. From Tiger Population In India, then to\n",
        "the distribution of Tiger reserves in India by map. And finally NTCA, the\n",
        "Tiger translocation Project and some of Tiger Reserves&#39; most famous\n",
        "landmarks in India. It is now the fourth Tiger Reserve in Chhattisgarh,\n",
        "following Udanti-Sitanadi, Achanakmar, and Indravati Reserves. The last\n",
        "known Asian leopard in the country was Guru Ghasidas National Park. It\n",
        "connects Jharkhand with Madhya Pradesh and provides a tiger tunnel to\n",
        "navigate between Bandhavgarh (Madhya Pradesh) and Palamau Tiger\n",
        "Reserves (Jharkhand)\n",
        "\n",
        " '''\n",
        "\n",
        "y='''There are a total of 53 Tiger reserves in India as of 2022. According to\n",
        "the latest Tiger Census of 2018-19 conducted in 20 states across India, 2967\n",
        "Tiger live in India. The population growth rate of Tiger is 6% per annum\n",
        "compared with the tiger census of 2006. In this article, we will dive into all the\n",
        "concepts that you need to know regarding the Tiger reserves in India.\n",
        "Starting from Tiger Population In India, then the distribution of Tiger reserves\n",
        "in India with a Map. And Finally NTCA, Tiger translocation Project and\n",
        "some of the famous Tiger Reserves in India. It is now the fourth Tiger\n",
        "Reserve in Chhattisgarh, following the Udanti-Sitanadi, Achanakmar, and\n",
        "Indravati Reserves. The Asiatic cheetah’s last known habitat in the country\n",
        "was Guru Ghasidas National Park. It links Jharkhand and Madhya Pradesh as\n",
        "well as provides a corridor for tigers to move between both the Bandhavgarh\n",
        "(Madhya Pradesh) and Palamau Tiger Reserves (Jharkhand).\n",
        "\n",
        "'''\n",
        "train_set = [y,doc1] #if we have to compare more than one document with the ground truth(y), we can add them in the training set.\n",
        "tfidf_vectorizer = TfidfVectorizer()\n",
        "tfidf_matrix_train = tfidf_vectorizer.fit_transform(train_set)  #finds the tfidf score with normalization\n",
        "print(\"cosine scores ==> \",cosine_similarity(tfidf_matrix_train[0:1], tfidf_matrix_train))\n",
        "#first element in the cosine score is that of the ground truth which is 1 itself.\n",
        "#Next element will be the similarity between document 1 and the ground truth and so on."
      ],
      "metadata": {
        "colab": {
          "base_uri": "https://localhost:8080/"
        },
        "id": "GMwCmHcTPQva",
        "outputId": "599abe10-78e9-4c3d-8790-49b5980a7e54"
      },
      "execution_count": null,
      "outputs": [
        {
          "output_type": "stream",
          "name": "stdout",
          "text": [
            "cosine scores ==>  [[1.         0.90655994]]\n"
          ]
        }
      ]
    },
    {
      "cell_type": "code",
      "source": [
        ""
      ],
      "metadata": {
        "id": "UivcooH6PXyj"
      },
      "execution_count": null,
      "outputs": []
    }
  ]
}